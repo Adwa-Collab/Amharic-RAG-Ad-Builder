{
 "cells": [
  {
   "cell_type": "code",
   "execution_count": 1,
   "metadata": {},
   "outputs": [
    {
     "name": "stderr",
     "output_type": "stream",
     "text": [
      "/home/babi/miniconda3/envs/tenx_week7/lib/python3.11/site-packages/tqdm/auto.py:21: TqdmWarning: IProgress not found. Please update jupyter and ipywidgets. See https://ipywidgets.readthedocs.io/en/stable/user_install.html\n",
      "  from .autonotebook import tqdm as notebook_tqdm\n"
     ]
    }
   ],
   "source": [
    "from transformers import AutoTokenizer\n",
    "\n",
    "# Load your tokenizer from the JSON file\n",
    "tokenizer = AutoTokenizer.from_pretrained(\"dagim/amharic_tokenizer\")\n",
    "# Save the tokenizer as a model file"
   ]
  },
  {
   "cell_type": "code",
   "execution_count": 4,
   "metadata": {},
   "outputs": [
    {
     "data": {
      "text/plain": [
       "['hel', 'lo', 'world']"
      ]
     },
     "execution_count": 4,
     "metadata": {},
     "output_type": "execute_result"
    }
   ],
   "source": [
    "tokenizer.tokenize(\"hello world\")"
   ]
  },
  {
   "cell_type": "code",
   "execution_count": 36,
   "metadata": {},
   "outputs": [
    {
     "ename": "AttributeError",
     "evalue": "'PreTrainedTokenizerFast' object has no attribute 'model'",
     "output_type": "error",
     "traceback": [
      "\u001b[0;31m---------------------------------------------------------------------------\u001b[0m",
      "\u001b[0;31mAttributeError\u001b[0m                            Traceback (most recent call last)",
      "Cell \u001b[0;32mIn[36], line 1\u001b[0m\n\u001b[0;32m----> 1\u001b[0m \u001b[43mtokenizer\u001b[49m\u001b[38;5;241;43m.\u001b[39;49m\u001b[43mmodel\u001b[49m\n\u001b[1;32m      2\u001b[0m \u001b[38;5;66;03m# model.save(\"../amharic_tokenizer/tokenizer.model\")\u001b[39;00m\n",
      "\u001b[0;31mAttributeError\u001b[0m: 'PreTrainedTokenizerFast' object has no attribute 'model'"
     ]
    }
   ],
   "source": [
    "# model.save(\"../amharic_tokenizer/tokenizer.model\")"
   ]
  },
  {
   "cell_type": "code",
   "execution_count": 27,
   "metadata": {},
   "outputs": [],
   "source": [
    "from tokenizers import Tokenizer\n",
    "\n",
    "# Load tokenizer from tokenizer.json\n",
    "tokenizer = Tokenizer.from_file(\"../amharic_tokenizer/tokenizer.json\")\n",
    "\n",
    "# Save tokenizer as a model\n",
    "tokenizer.save(\"../amharic_tokenizer/tokenizer_2.model\")"
   ]
  },
  {
   "cell_type": "code",
   "execution_count": 1,
   "metadata": {},
   "outputs": [
    {
     "name": "stderr",
     "output_type": "stream",
     "text": [
      "/home/babi/miniconda3/envs/tenx_week7/lib/python3.11/site-packages/tqdm/auto.py:21: TqdmWarning: IProgress not found. Please update jupyter and ipywidgets. See https://ipywidgets.readthedocs.io/en/stable/user_install.html\n",
      "  from .autonotebook import tqdm as notebook_tqdm\n",
      "You are using the default legacy behaviour of the <class 'transformers.models.t5.tokenization_t5.T5Tokenizer'>. This is expected, and simply means that the `legacy` (previous) behavior will be used so nothing changes for you. If you want to use the new behaviour, set `legacy=False`. This should only be set if you understand what it means, and thoroughly read the reason why this was added as explained in https://github.com/huggingface/transformers/pull/24565\n",
      "/home/babi/miniconda3/envs/tenx_week7/lib/python3.11/site-packages/transformers/convert_slow_tokenizer.py:515: UserWarning: The sentencepiece tokenizer that you are converting to a fast tokenizer uses the byte fallback option which is not implemented in the fast tokenizers. In practice this means that the fast version of the tokenizer can produce unknown tokens whereas the sentencepiece version would have converted these unknown tokens into a sequence of byte tokens matching the original piece of text.\n",
      "  warnings.warn(\n"
     ]
    }
   ],
   "source": [
    "from transformers import AutoTokenizer\n",
    "\n",
    "model_name = \"csebuetnlp/mT5_multilingual_XLSum\"\n",
    "tokenizer = AutoTokenizer.from_pretrained(model_name)"
   ]
  },
  {
   "cell_type": "code",
   "execution_count": 4,
   "metadata": {},
   "outputs": [
    {
     "data": {
      "text/plain": [
       "['▁',\n",
       " 'ሶ',\n",
       " 'ስት',\n",
       " '▁አ',\n",
       " 'ቅ',\n",
       " 'ም',\n",
       " '▁ያሳ',\n",
       " 'ጡ',\n",
       " 'ኝ',\n",
       " '▁በ',\n",
       " 'ሽ',\n",
       " 'ታ',\n",
       " 'ዎች',\n",
       " '▁',\n",
       " 'ና',\n",
       " 'ፍ',\n",
       " 'ቆ',\n",
       " 'ት',\n",
       " '▁',\n",
       " '፣',\n",
       " '▁',\n",
       " 'ት',\n",
       " 'ዝ',\n",
       " 'ታ',\n",
       " '▁እና',\n",
       " '▁ብ',\n",
       " 'ቸ',\n",
       " 'ኝነት',\n",
       " '▁',\n",
       " 'ናቸው',\n",
       " '።',\n",
       " '▁ለ',\n",
       " '▁የሚ',\n",
       " 'ሆ',\n",
       " 'ኑ',\n",
       " '▁',\n",
       " 'ጥ',\n",
       " 'ቅ',\n",
       " 'ሶ',\n",
       " 'ች']"
      ]
     },
     "execution_count": 4,
     "metadata": {},
     "output_type": "execute_result"
    }
   ],
   "source": [
    "tokenizer.tokenize(\"ሶስት አቅም ያሳጡኝ በሽታዎች ናፍቆት ፣ ትዝታ እና ብቸኝነት ናቸው። ለ የሚሆኑ ጥቅሶች\")"
   ]
  },
  {
   "cell_type": "code",
   "execution_count": 5,
   "metadata": {},
   "outputs": [],
   "source": [
    "tokenizer_2 = AutoTokenizer.from_pretrained(\"dagim/amharic_tokenizer\")"
   ]
  },
  {
   "cell_type": "code",
   "execution_count": 6,
   "metadata": {},
   "outputs": [
    {
     "data": {
      "text/plain": [
       "['ሶስት',\n",
       " 'አቅም',\n",
       " 'ያሳ',\n",
       " 'ጡ',\n",
       " 'ኝ',\n",
       " 'በሽታዎች',\n",
       " 'ናፍቆት',\n",
       " '፣',\n",
       " 'ትዝታ',\n",
       " 'እና',\n",
       " 'ብቸኝነት',\n",
       " 'ናቸው',\n",
       " '።',\n",
       " 'ለ',\n",
       " 'የሚሆኑ',\n",
       " 'ጥቅ',\n",
       " 'ሶች']"
      ]
     },
     "execution_count": 6,
     "metadata": {},
     "output_type": "execute_result"
    }
   ],
   "source": [
    "tokenizer_2.tokenize(\"ሶስት አቅም ያሳጡኝ በሽታዎች ናፍቆት ፣ ትዝታ እና ብቸኝነት ናቸው። ለ የሚሆኑ ጥቅሶች\")"
   ]
  }
 ],
 "metadata": {
  "kernelspec": {
   "display_name": "tenx_week7",
   "language": "python",
   "name": "python3"
  },
  "language_info": {
   "codemirror_mode": {
    "name": "ipython",
    "version": 3
   },
   "file_extension": ".py",
   "mimetype": "text/x-python",
   "name": "python",
   "nbconvert_exporter": "python",
   "pygments_lexer": "ipython3",
   "version": "3.11.7"
  }
 },
 "nbformat": 4,
 "nbformat_minor": 2
}
